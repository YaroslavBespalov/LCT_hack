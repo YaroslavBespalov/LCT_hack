{
 "cells": [
  {
   "cell_type": "code",
   "execution_count": 168,
   "metadata": {},
   "outputs": [],
   "source": [
    "import os\n",
    "import numpy as np\n",
    "from matplotlib import pyplot as plt\n",
    "from scipy.ndimage import label, generate_binary_structure"
   ]
  },
  {
   "cell_type": "code",
   "execution_count": 169,
   "metadata": {},
   "outputs": [],
   "source": [
    "import cv2 as cv"
   ]
  },
  {
   "cell_type": "code",
   "execution_count": 170,
   "metadata": {},
   "outputs": [],
   "source": [
    "masks_images = [x for x in os.listdir(\"../data/masks_aggregate\")]"
   ]
  },
  {
   "cell_type": "markdown",
   "metadata": {},
   "source": [
    "# Классификация предиктов масок легких по легким"
   ]
  },
  {
   "cell_type": "code",
   "execution_count": 171,
   "metadata": {},
   "outputs": [],
   "source": [
    "for j in masks_images:\n",
    "    mask_array = plt.imread(os.path.join(\"../data/masks_aggregate\", j))\n",
    "    pattern = generate_binary_structure(2, 2)\n",
    "    labeled_array, num_features = label(mask_array, structure=pattern)\n",
    "    size_area = []\n",
    "    res = np.zeros_like(labeled_array)\n",
    "    if num_features > 1:\n",
    "        for i in range(1,num_features+1):\n",
    "            size_area.append(len(np.where(labeled_array == i)[0]))\n",
    "        lung_first = size_area.index(sorted(size_area)[-1]) + 1\n",
    "        lung_second = size_area.index(sorted(size_area)[-2]) + 1 \n",
    "        x1, x2 = np.where(labeled_array == lung_first)\n",
    "        y1, y2 = np.where(labeled_array == lung_second)\n",
    "        if x2.min() < y2.min():\n",
    "            res[x1,x2] = 1\n",
    "            res[y1,y2] = 2\n",
    "        else:\n",
    "            res[x1,x2] = 2\n",
    "            res[y1,y2] = 1\n",
    "\n",
    "    elif num_features == 1:\n",
    "        x1, x2 = np.where(labeled_array == 1)\n",
    "        if x2.min() < 512:\n",
    "            res[x1,x2] = 1\n",
    "        else:\n",
    "            res[x1,x2] = 2\n",
    "\n",
    "    cv.imwrite('../data/masks012/' + j, res)\n",
    "    \n"
   ]
  },
  {
   "cell_type": "markdown",
   "metadata": {},
   "source": [
    "# Очистка по трешхолду"
   ]
  },
  {
   "cell_type": "code",
   "execution_count": 172,
   "metadata": {},
   "outputs": [],
   "source": [
    "for j in masks_images:\n",
    "    arr = cv.imread(os.path.join(\"../data/masks012/\", j))[...,0]\n",
    "    for i in (np.unique(arr)[1:]):\n",
    "        x, y = np.where(arr == i)\n",
    "        if len(x) < 9500:\n",
    "            arr[x,y] = 0\n",
    "    cv.imwrite('../data/masks012/' + j, arr)\n",
    "#     plt.imshow(arr)\n"
   ]
  },
  {
   "cell_type": "markdown",
   "metadata": {},
   "source": [
    "# Замена отсутствующих легких на их среднее по датасету (поиск средних)"
   ]
  },
  {
   "cell_type": "code",
   "execution_count": 173,
   "metadata": {},
   "outputs": [],
   "source": [
    "left_average_lung = np.zeros((1024,1024))\n",
    "for j in masks_images:\n",
    "    arr = cv.imread(os.path.join(\"../data/masks012/\", j))[...,0]\n",
    "    tmp_mask = np.zeros((1024,1024))\n",
    "    tmp_mask[np.where(arr == 1)] = 1\n",
    "    left_average_lung += tmp_mask\n",
    "\n",
    "right_average_lung = np.zeros((1024,1024))\n",
    "for j in masks_images:\n",
    "    arr = cv.imread(os.path.join(\"../data/masks012/\", j))[...,0]\n",
    "    tmp_mask = np.zeros((1024,1024))\n",
    "    tmp_mask[np.where(arr == 2)] = 1\n",
    "    right_average_lung += tmp_mask\n",
    "\n"
   ]
  },
  {
   "cell_type": "markdown",
   "metadata": {},
   "source": [
    "# otrisovka average mask"
   ]
  },
  {
   "cell_type": "code",
   "execution_count": 174,
   "metadata": {},
   "outputs": [
    {
     "data": {
      "text/plain": [
       "True"
      ]
     },
     "execution_count": 174,
     "metadata": {},
     "output_type": "execute_result"
    },
    {
     "data": {
      "image/png": "[encoded data removed]",
      "text/plain": [
       "<Figure size 432x288 with 1 Axes>"
      ]
     },
     "metadata": {
      "needs_background": "light"
     },
     "output_type": "display_data"
    }
   ],
   "source": [
    "final_mask = np.zeros((1024,1024))\n",
    "final_mask[np.where(left_average_lung > 10)] = 1\n",
    "final_mask[np.where(right_average_lung > 10)] = 2\n",
    "plt.imshow(final_mask)\n",
    "cv.imwrite('../data/masks012/' + 'average_mask.png', final_mask)"
   ]
  },
  {
   "cell_type": "markdown",
   "metadata": {},
   "source": [
    "# Восставление недостающего легкого"
   ]
  },
  {
   "cell_type": "code",
   "execution_count": 175,
   "metadata": {},
   "outputs": [],
   "source": [
    "for j in masks_images:\n",
    "    arr = cv.imread(os.path.join(\"../data/masks012/\", j))[...,0]\n",
    "    if 1 not in np.unique(arr):\n",
    "        arr[np.where(left_average_lung > 10)] = 1\n",
    "        cv.imwrite('../data/masks012/' + j, arr)\n",
    "    if 2 not in np.unique(arr):\n",
    "        arr[np.where(right_average_lung > 10)] = 2\n",
    "        cv.imwrite('../data/masks012/' + j, arr)\n",
    "        "
   ]
  },
  {
   "cell_type": "markdown",
   "metadata": {},
   "source": [
    "# Разные трешхолды"
   ]
  },
  {
   "cell_type": "code",
   "execution_count": 150,
   "metadata": {},
   "outputs": [
    {
     "data": {
      "text/plain": [
       "<matplotlib.image.AxesImage at 0x7f9b15a64bd0>"
      ]
     },
     "execution_count": 150,
     "metadata": {},
     "output_type": "execute_result"
    },
    {
     "data": {
      "image/png": "[encoded data removed]",
      "text/plain": [
       "<Figure size 432x288 with 1 Axes>"
      ]
     },
     "metadata": {
      "needs_background": "light"
     },
     "output_type": "display_data"
    }
   ],
   "source": [
    "plt.imshow(np.where(left_average_lung > 1, 1, 0))"
   ]
  },
  {
   "cell_type": "code",
   "execution_count": 151,
   "metadata": {},
   "outputs": [
    {
     "data": {
      "text/plain": [
       "<matplotlib.image.AxesImage at 0x7f9b14100d50>"
      ]
     },
     "execution_count": 151,
     "metadata": {},
     "output_type": "execute_result"
    },
    {
     "data": {
      "image/png": "[encoded data removed]",
      "text/plain": [
       "<Figure size 432x288 with 1 Axes>"
      ]
     },
     "metadata": {
      "needs_background": "light"
     },
     "output_type": "display_data"
    }
   ],
   "source": [
    "plt.imshow(np.where(left_average_lung > 10, 1, 0))"
   ]
  },
  {
   "cell_type": "code",
   "execution_count": 144,
   "metadata": {},
   "outputs": [
    {
     "data": {
      "text/plain": [
       "<matplotlib.image.AxesImage at 0x7f9b16b4d990>"
      ]
     },
     "execution_count": 144,
     "metadata": {},
     "output_type": "execute_result"
    },
    {
     "data": {
      "image/png": "[encoded data removed]",
      "text/plain": [
       "<Figure size 432x288 with 1 Axes>"
      ]
     },
     "metadata": {
      "needs_background": "light"
     },
     "output_type": "display_data"
    }
   ],
   "source": [
    "plt.imshow(np.where(right_average_lung > 1, 1, 0))"
   ]
  },
  {
   "cell_type": "code",
   "execution_count": 152,
   "metadata": {},
   "outputs": [
    {
     "data": {
      "text/plain": [
       "<matplotlib.image.AxesImage at 0x7f9b14565e90>"
      ]
     },
     "execution_count": 152,
     "metadata": {},
     "output_type": "execute_result"
    },
    {
     "data": {
      "image/png": "[encoded data removed]",
      "text/plain": [
       "<Figure size 432x288 with 1 Axes>"
      ]
     },
     "metadata": {
      "needs_background": "light"
     },
     "output_type": "display_data"
    }
   ],
   "source": [
    "plt.imshow(np.where(right_average_lung > 10, 1, 0))"
   ]
  },
  {
   "cell_type": "code",
   "execution_count": null,
   "metadata": {},
   "outputs": [],
   "source": []
  }
 ],
 "metadata": {
  "kernelspec": {
   "display_name": "Python 3",
   "language": "python",
   "name": "python3"
  },
  "language_info": {
   "codemirror_mode": {
    "name": "ipython",
    "version": 3
   },
   "file_extension": ".py",
   "mimetype": "text/x-python",
   "name": "python",
   "nbconvert_exporter": "python",
   "pygments_lexer": "ipython3",
   "version": "3.7.4"
  }
 },
 "nbformat": 4,
 "nbformat_minor": 2
}
